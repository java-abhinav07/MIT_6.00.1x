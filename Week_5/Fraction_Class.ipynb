{
 "cells": [
  {
   "cell_type": "code",
   "execution_count": 5,
   "metadata": {},
   "outputs": [],
   "source": [
    "def gcd(m,n):\n",
    "    temp1 = m\n",
    "    temp2 = n\n",
    "    while m%n != 0:\n",
    "        oldm = m\n",
    "        oldn = n\n",
    "\n",
    "        m = oldn\n",
    "        n = oldm%oldn\n",
    "    l =[temp1//n, temp2//n]\n",
    "    return l\n",
    "# __xyz__ to use the methods as operators\n",
    "class Fraction:\n",
    "    def __init__(self,top,bottom):\n",
    "        if isinstance(top, int) and isinstance(bottom, int):\n",
    "            self.num = top\n",
    "            self.den = bottom\n",
    "        else:\n",
    "            print(\"Enter Valid input\")\n",
    "            exit(0)\n",
    "        if bottom < 0:\n",
    "            self.num = -self.num\n",
    "            self.den = -self.den\n",
    "        \n",
    "    def __str__(self):\n",
    "        return str(self.num)+\"/\"+str(self.den)\n",
    "    def show(self):\n",
    "         print(self.num,\"/\",self.den)\n",
    "    def __add__(self,otherfraction):\n",
    "        newnum = self.num*otherfraction.den + self.den*otherfraction.num\n",
    "        newden = self.den * otherfraction.den\n",
    "        l = gcd(newnum,newden)\n",
    "        return Fraction(l[0],l[1])\n",
    "    def __eq__(self, other):\n",
    "        firstnum = self.num * other.den\n",
    "        secondnum = other.num * self.den\n",
    "        return firstnum == secondnum\n",
    "    def __mul__(self, other):\n",
    "        first = self.num*other.num\n",
    "        sec = self.den*other.den\n",
    "        common = gcd(first, sec)\n",
    "        return Fraction(common[0], common[1])\n",
    "    def __truediv__(self, other):\n",
    "        first = self.num*other.den\n",
    "        sec = self.den*other.num\n",
    "        common = gcd(first, sec)\n",
    "        return Fraction(common[0], common[1])\n",
    "        "
   ]
  },
  {
   "cell_type": "code",
   "execution_count": 8,
   "metadata": {},
   "outputs": [
    {
     "name": "stdout",
     "output_type": "stream",
     "text": [
      "7 / 6\n"
     ]
    }
   ],
   "source": [
    "x = Fraction(2, 3)\n",
    "y = Fraction(2, 4)\n",
    "(x + y).show()"
   ]
  },
  {
   "cell_type": "code",
   "execution_count": null,
   "metadata": {},
   "outputs": [],
   "source": []
  }
 ],
 "metadata": {
  "kernelspec": {
   "display_name": "Python 3",
   "language": "python",
   "name": "python3"
  },
  "language_info": {
   "codemirror_mode": {
    "name": "ipython",
    "version": 3
   },
   "file_extension": ".py",
   "mimetype": "text/x-python",
   "name": "python",
   "nbconvert_exporter": "python",
   "pygments_lexer": "ipython3",
   "version": "3.7.3"
  }
 },
 "nbformat": 4,
 "nbformat_minor": 2
}
